{
 "cells": [
  {
   "cell_type": "markdown",
   "id": "37214e1a-bcbe-4efc-9056-f6858645134d",
   "metadata": {},
   "source": [
    "## Data Cleaning Customer Address\n"
   ]
  },
  {
   "cell_type": "code",
   "execution_count": 1,
   "id": "e25fda01-fcb9-45d1-98e1-276bdeaf9c99",
   "metadata": {},
   "outputs": [],
   "source": [
    "import pandas as pd\n",
    "import numpy as np\n",
    "import matplotlib.pyplot as plt\n",
    "import seaborn as sns\n",
    "import warnings\n",
    "%matplotlib inline\n",
    "from datetime import datetime, date\n",
    "\n",
    "\n"
   ]
  },
  {
   "cell_type": "code",
   "execution_count": 17,
   "id": "0a7e936d-bf06-4122-ad0b-f75c1c06f65c",
   "metadata": {},
   "outputs": [],
   "source": [
    "#Loading the Customer Address Data from the excel file\n",
    "df = pd.read_excel(r'C:\\Users\\Dhir\\OneDrive\\Desktop\\DATA ANALYTICS\\PYTHON PROJECT\\Customer Segmentation\\Raw_data.xlsx' , sheet_name = 'CustomerAddress')"
   ]
  },
  {
   "cell_type": "code",
   "execution_count": 18,
   "id": "4e393109-e0bf-4847-9fd9-21d636535280",
   "metadata": {},
   "outputs": [
    {
     "data": {
      "text/html": [
       "<div>\n",
       "<style scoped>\n",
       "    .dataframe tbody tr th:only-of-type {\n",
       "        vertical-align: middle;\n",
       "    }\n",
       "\n",
       "    .dataframe tbody tr th {\n",
       "        vertical-align: top;\n",
       "    }\n",
       "\n",
       "    .dataframe thead th {\n",
       "        text-align: right;\n",
       "    }\n",
       "</style>\n",
       "<table border=\"1\" class=\"dataframe\">\n",
       "  <thead>\n",
       "    <tr style=\"text-align: right;\">\n",
       "      <th></th>\n",
       "      <th>customer_id</th>\n",
       "      <th>address</th>\n",
       "      <th>postcode</th>\n",
       "      <th>state</th>\n",
       "      <th>country</th>\n",
       "      <th>property_valuation</th>\n",
       "    </tr>\n",
       "  </thead>\n",
       "  <tbody>\n",
       "    <tr>\n",
       "      <th>0</th>\n",
       "      <td>1</td>\n",
       "      <td>060 Morning Avenue</td>\n",
       "      <td>2016</td>\n",
       "      <td>New South Wales</td>\n",
       "      <td>Australia</td>\n",
       "      <td>10</td>\n",
       "    </tr>\n",
       "    <tr>\n",
       "      <th>1</th>\n",
       "      <td>2</td>\n",
       "      <td>6 Meadow Vale Court</td>\n",
       "      <td>2153</td>\n",
       "      <td>New South Wales</td>\n",
       "      <td>Australia</td>\n",
       "      <td>10</td>\n",
       "    </tr>\n",
       "    <tr>\n",
       "      <th>2</th>\n",
       "      <td>4</td>\n",
       "      <td>0 Holy Cross Court</td>\n",
       "      <td>4211</td>\n",
       "      <td>QLD</td>\n",
       "      <td>Australia</td>\n",
       "      <td>9</td>\n",
       "    </tr>\n",
       "    <tr>\n",
       "      <th>3</th>\n",
       "      <td>5</td>\n",
       "      <td>17979 Del Mar Point</td>\n",
       "      <td>2448</td>\n",
       "      <td>New South Wales</td>\n",
       "      <td>Australia</td>\n",
       "      <td>4</td>\n",
       "    </tr>\n",
       "    <tr>\n",
       "      <th>4</th>\n",
       "      <td>6</td>\n",
       "      <td>9 Oakridge Court</td>\n",
       "      <td>3216</td>\n",
       "      <td>VIC</td>\n",
       "      <td>Australia</td>\n",
       "      <td>9</td>\n",
       "    </tr>\n",
       "  </tbody>\n",
       "</table>\n",
       "</div>"
      ],
      "text/plain": [
       "   customer_id              address  postcode            state    country  \\\n",
       "0            1   060 Morning Avenue      2016  New South Wales  Australia   \n",
       "1            2  6 Meadow Vale Court      2153  New South Wales  Australia   \n",
       "2            4   0 Holy Cross Court      4211              QLD  Australia   \n",
       "3            5  17979 Del Mar Point      2448  New South Wales  Australia   \n",
       "4            6     9 Oakridge Court      3216              VIC  Australia   \n",
       "\n",
       "   property_valuation  \n",
       "0                  10  \n",
       "1                  10  \n",
       "2                   9  \n",
       "3                   4  \n",
       "4                   9  "
      ]
     },
     "execution_count": 18,
     "metadata": {},
     "output_type": "execute_result"
    }
   ],
   "source": [
    " #Checking first 5 records from Customer Address Data\n",
    "df.head(5)"
   ]
  },
  {
   "cell_type": "code",
   "execution_count": 19,
   "id": "0128a8be-98e4-411b-82e2-4336893e8bdd",
   "metadata": {},
   "outputs": [
    {
     "name": "stdout",
     "output_type": "stream",
     "text": [
      "<class 'pandas.core.frame.DataFrame'>\n",
      "RangeIndex: 3999 entries, 0 to 3998\n",
      "Data columns (total 6 columns):\n",
      " #   Column              Non-Null Count  Dtype \n",
      "---  ------              --------------  ----- \n",
      " 0   customer_id         3999 non-null   int64 \n",
      " 1   address             3999 non-null   object\n",
      " 2   postcode            3999 non-null   int64 \n",
      " 3   state               3999 non-null   object\n",
      " 4   country             3999 non-null   object\n",
      " 5   property_valuation  3999 non-null   int64 \n",
      "dtypes: int64(3), object(3)\n",
      "memory usage: 187.6+ KB\n"
     ]
    }
   ],
   "source": [
    "#Information of columns and data-types of Customer Address Data.\n",
    "df.info()\n"
   ]
  },
  {
   "cell_type": "markdown",
   "id": "cb988859-82a0-4b11-8492-e8fa3bc2cd16",
   "metadata": {},
   "source": [
    "The data-type of columns looks fine. Let;s check for the data quality and apply data cleaning process where ever applicable to clean our dataset before performing any analysis."
   ]
  },
  {
   "cell_type": "markdown",
   "id": "90c20243-45e0-49e5-8f33-09222d8ba50d",
   "metadata": {},
   "source": [
    "## Total Records"
   ]
  },
  {
   "cell_type": "code",
   "execution_count": 14,
   "id": "02782e7b-7e67-432f-b181-2e7b52d2e3d4",
   "metadata": {},
   "outputs": [
    {
     "name": "stdout",
     "output_type": "stream",
     "text": [
      "Total records (rows) in the dataset : 3999\n",
      "Total columns (features) in the dataset : 6\n"
     ]
    }
   ],
   "source": [
    "print(\"Total records (rows) in the dataset : {}\".format(cust_address.shape[0]))\n",
    "print(\"Total columns (features) in the dataset : {}\".format(cust_address.shape[1]))"
   ]
  },
  {
   "cell_type": "markdown",
   "id": "13a9fa75-1b05-4bbf-94a9-0f30ee3f46f2",
   "metadata": {},
   "source": [
    "## Numeric Columns and Non-Numeric Columns"
   ]
  },
  {
   "cell_type": "code",
   "execution_count": 21,
   "id": "24a3b510-d1bd-4a2c-93ba-c83525e7405f",
   "metadata": {},
   "outputs": [
    {
     "name": "stdout",
     "output_type": "stream",
     "text": [
      "The numeric columns are : ['customer_id' 'postcode' 'property_valuation']\n",
      "The non-numeric columns are  : ['address' 'state' 'country']\n"
     ]
    }
   ],
   "source": [
    "#select numeric columns\n",
    "df_numeric = df.select_dtypes(include = [np.number])\n",
    "numeric_cols = df_numeric.columns.values\n",
    "print(\"The numeric columns are : {}\".format(numeric_cols))\n",
    "\n",
    "# select non-numeric columns\n",
    "df_non_numeric = df.select_dtypes(exclude=[np.number])\n",
    "non_numeric_cols = df_non_numeric.columns.values\n",
    "print(\"The non-numeric columns are  : {}\".format(non_numeric_cols))\n",
    "\n",
    "\n",
    "\n"
   ]
  },
  {
   "cell_type": "markdown",
   "id": "74bc207a-1d8e-4112-b05f-f0b2058240f2",
   "metadata": {},
   "source": [
    "## 1.Missing Values Check"
   ]
  },
  {
   "cell_type": "markdown",
   "id": "8da370e8-6574-4c82-8c99-cf39e27838d5",
   "metadata": {},
   "source": [
    "Checking for the presence of any missing values in the dataset. If missing values are present for a particular feature then depending upon the situation the feature may be either dropped (cases when a major amount of data is missing) or an appropiate value will be imputed in the feature column with missing values."
   ]
  },
  {
   "cell_type": "code",
   "execution_count": 22,
   "id": "ce229d2f-bc0f-4ad2-80d7-219cabefc42e",
   "metadata": {},
   "outputs": [
    {
     "data": {
      "text/plain": [
       "customer_id           0\n",
       "address               0\n",
       "postcode              0\n",
       "state                 0\n",
       "country               0\n",
       "property_valuation    0\n",
       "dtype: int64"
      ]
     },
     "execution_count": 22,
     "metadata": {},
     "output_type": "execute_result"
    }
   ],
   "source": [
    "#Total number of missing values\n",
    "df.isnull().sum()"
   ]
  },
  {
   "cell_type": "markdown",
   "id": "52b6f5b3-f89d-4e00-8687-44a5f6376135",
   "metadata": {},
   "source": [
    "##### In the dataset there is no missing values."
   ]
  },
  {
   "cell_type": "markdown",
   "id": "1afbec5f-f56d-491a-9aba-c7bc9e0781bb",
   "metadata": {},
   "source": [
    "## 2. Inconcistency Check in Data"
   ]
  },
  {
   "cell_type": "markdown",
   "id": "de449aec-e313-47bc-8c5b-9c9e96e62351",
   "metadata": {},
   "source": [
    "We will check whether there is inconsistent data / typo error data is present in the categorical columns.\n",
    "The columns to be checked are 'address', 'postcode' ,'state', 'country'."
   ]
  },
  {
   "cell_type": "markdown",
   "id": "2f455ce3-b008-4999-8a05-0219ec3b3eb4",
   "metadata": {},
   "source": [
    "### 2.1 State"
   ]
  },
  {
   "cell_type": "code",
   "execution_count": 23,
   "id": "c822a885-c0b4-441f-b4da-ccdca4afb6f4",
   "metadata": {},
   "outputs": [
    {
     "data": {
      "text/plain": [
       "state\n",
       "NSW                2054\n",
       "VIC                 939\n",
       "QLD                 838\n",
       "New South Wales      86\n",
       "Victoria             82\n",
       "Name: count, dtype: int64"
      ]
     },
     "execution_count": 23,
     "metadata": {},
     "output_type": "execute_result"
    }
   ],
   "source": [
    "df['state'].value_counts()"
   ]
  },
  {
   "cell_type": "markdown",
   "id": "35f8a9ff-3127-42e5-a27d-c3f2647fc9d6",
   "metadata": {},
   "source": [
    "Here there are inconsistent data in State column. For New South Wales and Victoria we have two values, one being the full name and the other being their short name. The State names should be standardised and columns with state as New South Wales will be replaced by NSW and columns with state as Victoria will be replaced by VIC.\n",
    "\n",
    "\n"
   ]
  },
  {
   "cell_type": "code",
   "execution_count": 25,
   "id": "1b64607d-ba69-42fa-b4be-1aa2560982e5",
   "metadata": {},
   "outputs": [],
   "source": [
    "# Function to replace full satte names with their short forms.\n",
    "\n",
    "def replace_state_names(state_name):\n",
    "\n",
    "     # Making Short Form od State Names as standards\n",
    "     if state_name == 'New South Wales':\n",
    "         return 'NSW'\n",
    "     elif state_name == ' Victoria':\n",
    "         return 'VIC'\n",
    "     else :\n",
    "         return state_name\n",
    " \n",
    "# Applying the above function to state column\n",
    "df['state'] = df['state'].apply(replace_state_names)"
   ]
  },
  {
   "cell_type": "markdown",
   "id": "4a437af4-cc21-4052-b48c-7e86b5391032",
   "metadata": {},
   "source": [
    "After applying the above function the state name is standardised and there is no inconsistency in the state column."
   ]
  },
  {
   "cell_type": "code",
   "execution_count": 27,
   "id": "9bf2ee8f-a3b3-4e60-a3c5-111feb87d49e",
   "metadata": {},
   "outputs": [
    {
     "data": {
      "text/plain": [
       "state\n",
       "NSW         2140\n",
       "VIC          939\n",
       "QLD          838\n",
       "Victoria      82\n",
       "Name: count, dtype: int64"
      ]
     },
     "execution_count": 27,
     "metadata": {},
     "output_type": "execute_result"
    }
   ],
   "source": [
    "df['state'].value_counts()"
   ]
  },
  {
   "cell_type": "markdown",
   "id": "cd3d3ee3-787e-47de-b602-cd2cff38dbd5",
   "metadata": {},
   "source": [
    "### 2.2 Country"
   ]
  },
  {
   "cell_type": "code",
   "execution_count": 28,
   "id": "bd519028-4edc-4956-a473-bbf7087723fd",
   "metadata": {},
   "outputs": [
    {
     "data": {
      "text/plain": [
       "country\n",
       "Australia    3999\n",
       "Name: count, dtype: int64"
      ]
     },
     "execution_count": 28,
     "metadata": {},
     "output_type": "execute_result"
    }
   ],
   "source": [
    "df['country'].value_counts()"
   ]
  },
  {
   "cell_type": "markdown",
   "id": "d2d9c061-3686-4d78-831e-f02981c621cf",
   "metadata": {},
   "source": [
    "There is no inconsistency of data in the Country column."
   ]
  },
  {
   "cell_type": "markdown",
   "id": "6015f006-4ec9-4fe1-80f1-2a1588a29d84",
   "metadata": {},
   "source": [
    "### Postcode"
   ]
  },
  {
   "cell_type": "markdown",
   "id": "ef8bb84c-53bd-4de9-ae23-482bcc798be7",
   "metadata": {},
   "source": [
    "The Postcode column looks perfect. There is no inconsistency / typo in the data."
   ]
  },
  {
   "cell_type": "code",
   "execution_count": null,
   "id": "05ecc33b-6b1c-4d55-994f-d8349db46367",
   "metadata": {},
   "outputs": [],
   "source": [
    "df[['address' , 'postcode' , 'state' , 'country']].drop_duplicates"
   ]
  },
  {
   "cell_type": "markdown",
   "id": "fa4a59cc-7727-4168-93be-08eb27c0a7e9",
   "metadata": {},
   "source": [
    "## 3. Duplication Checks"
   ]
  },
  {
   "cell_type": "markdown",
   "id": "762f4f71-62b8-4aea-9e0c-68750f82935c",
   "metadata": {},
   "source": [
    "We need to ensure that there is no duplication of records in the dataset. This may lead to error in data analysis due to poor data quality. If there are duplicate rows of data then we need to drop such records.\n",
    "For checking for duplicate records we need to firstly remove the primary key column of the dataset then apply drop_duplicates() function provided by Python."
   ]
  },
  {
   "cell_type": "code",
   "execution_count": 33,
   "id": "590ae487-8bad-457f-93a5-ddbe8e40431d",
   "metadata": {},
   "outputs": [
    {
     "name": "stdout",
     "output_type": "stream",
     "text": [
      "Number of records after removing customer_id (pk), duplicates : 3999\n",
      "Number of records in original dataset : 3999\n"
     ]
    }
   ],
   "source": [
    "#Dropping the primary key column i.e customer_id and storing into a temporary dataframe.\n",
    "cust_address_dedupped = df.drop('customer_id' , axis =1).drop_duplicates()\n",
    "print(\"Number of records after removing customer_id (pk), duplicates : {}\".format(cust_address_dedupped.shape[0]))\n",
    "print(\"Number of records in original dataset : {}\".format(cust_address.shape[0]))"
   ]
  },
  {
   "cell_type": "markdown",
   "id": "d429595c-b5e3-4fa4-98ed-9c753c76be9d",
   "metadata": {},
   "source": [
    "##### Since both the numbers are same.There are no duplicate records in dataset"
   ]
  },
  {
   "cell_type": "markdown",
   "id": "3acbe523-8797-46ac-9763-ac52d876751a",
   "metadata": {},
   "source": [
    "## 4. Exporting the Cleaned Customer Demographic Data Set to csv"
   ]
  },
  {
   "cell_type": "markdown",
   "id": "ba9af7cb-ec98-41c9-9865-5cc9d392f91d",
   "metadata": {},
   "source": [
    "Currently the Customer Address dataset is clean. Hence we can export the data to a csv to continue our data analysis of Customer Segments by joining it to other tables."
   ]
  },
  {
   "cell_type": "code",
   "execution_count": 39,
   "id": "eefe15bd-a315-4431-b3ce-ebad40c16611",
   "metadata": {},
   "outputs": [],
   "source": [
    "df.to_csv('CustomerAddress_Cleaned.csv' , index=False)"
   ]
  },
  {
   "cell_type": "code",
   "execution_count": null,
   "id": "cf5e35af-4cf7-4d36-801f-3375946154c8",
   "metadata": {},
   "outputs": [],
   "source": []
  }
 ],
 "metadata": {
  "kernelspec": {
   "display_name": "Python 3 (ipykernel)",
   "language": "python",
   "name": "python3"
  },
  "language_info": {
   "codemirror_mode": {
    "name": "ipython",
    "version": 3
   },
   "file_extension": ".py",
   "mimetype": "text/x-python",
   "name": "python",
   "nbconvert_exporter": "python",
   "pygments_lexer": "ipython3",
   "version": "3.12.1"
  }
 },
 "nbformat": 4,
 "nbformat_minor": 5
}
